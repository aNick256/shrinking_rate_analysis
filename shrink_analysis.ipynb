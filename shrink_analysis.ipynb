import os
import csv
import pandas as pd
import numpy as np
import matplotlib.pyplot as plt
from scipy.optimize import curve_fit
import re
from scipy.integrate import simps


# Directory containing CSV files
directory = 'path/to/your/folder/containing/coordinate/files' 


# Initialize lists to store adjusted data
all_x_adjusted = []
all_y_adjusted = []



# First pass to find the overall maximum Y value
overall_max_y = -np.inf



# Function to generate color map
def generate_color_map(filenames):
    img_numbers = set(get_img_number(f) for f in filenames if get_img_number(f) is not None)
    return {num: plt.cm.tab20(i/len(img_numbers)) for i, num in enumerate(sorted(img_numbers))}

# Function to extract "img" number from filename
# Function to extract "img" number from filename, defaulting to 0 if not found
def get_img_number(filename):
    match = re.search(r'img(\d+)', filename)
    if match:
        return int(match.group(1))
    else:
        return 0  # Explicitly return 0 if no number is found

all_files = [f for f in os.listdir(directory) if f.endswith('.csv')]
color_map = generate_color_map(all_files)

# Calculate the slowdown impact factor
def calculate_slowdown_impact_factor(x_fit, y_fit, popt):
    # Convert x_fit and y_fit to NumPy arrays (if they are Pandas Series)
    x_fit = np.array(x_fit)
    y_fit = np.array(y_fit)
    
    # Calculate the fitted values for the logarithmic function
    y_log_fit = fit_function(x_fit, *popt)
    
    # Define a straight line connecting the first and last points of the fit
    x_start, x_end = x_fit[0], x_fit[-1]
    y_start, y_end = y_log_fit[0], y_log_fit[-1]
    
    # Slope (m) and intercept (c) of the straight line
    m = (y_end - y_start) / (x_end - x_start)
    c = y_start - m * x_start
    x_range_c = x_end - x_start
    # Calculate the straight line values
    y_linear_fit = m * x_fit + c
    
    # Compute the area between the logarithmic curve and the linear curve
    area_between_curves = np.trapz(-y_log_fit + y_linear_fit, x_fit)
    
    # Normalize the area by the length of the x ra
    impact_factor = area_between_curves / x_range_c
    
    return impact_factor


legend_labels = set()

# Iterate through all files in the directory to find the overall maximum Y
for filename in os.listdir(directory):
    if filename.endswith('.csv'):
        file_path = os.path.join(directory, filename)
        try:
            df = pd.read_csv(file_path, encoding='utf-8')
        except UnicodeDecodeError:
            df = pd.read_csv(file_path, encoding='latin-1')
        
        try:
            y = df['Y'] / 60
        except KeyError as e:
            print(f"Error: {e}. Columns not found in file {file_path}. Skipping.")
            continue
        
        max_y = np.max(y)
        
        if max_y > overall_max_y:
            overall_max_y = max_y

print(len(os.listdir(directory)))
# # Define the new function with fixed point constraint
def fit_function(x, a, b, c, d):
    return a * np.log(b * x + 1) + 0*c + d

# def fit_function(x, k, L, x0, overall_max_y):
#     return L / (1 + np.exp(k *(x - x0))) -  L / (1 + np.exp(-k * x0)) + overall_max_y

def logistic_derivative(x, a, b, c, d):
    return a * b / (b * x + 1) + c*0 + d*0

all_y_adjusted_list = {}
# Second pass to adjust the datasets and perform fitting
plt.figure(figsize=(12, 12))

# Adjusted X,Y scatter plot with fitted function for non-"With_NS" files
plt.subplot(2, 2, 1)

all_shrinkage_rates = []
all_x_fits = []
filtered_shrinkage_rates_dict = {}
mean_shrinkage_rates_dict = {}
all_impact_factors = []
non_ns_binary = False
all_b_param = []
all_x_ranges = []
all_catasrophe_lengths = []
mean_shrinkage_rates = []
all_pixel_values = []
all_x_fit = []
all_y_fit = []
img_labels = []

for filename in os.listdir(directory):
    if filename.endswith('.csv') and not filename.startswith('With_NS') and not filename.startswith('._'):
        non_ns_binary = True
        file_path = os.path.join(directory, filename)
        try:
            df = pd.read_csv(file_path, encoding='utf-8')
        except UnicodeDecodeError:
            df = pd.read_csv(file_path, encoding='latin-1')
        
        try:
            x = df['X']
            y = df['Y'] / 60
            pixel_values = df['PixelValue']
        except KeyError as e:
            pixel_values = df['PxVl channel=1']
            print(f"Error: {e}. Columns not found in file {file_path}. Skipping.")
            #continue

        max_y = np.max(y)
        min_x = np.min(x)
        x_adjusted = x - min_x
        y_adjusted = y + (overall_max_y - max_y) 

        all_x_adjusted.extend(x_adjusted)
        all_y_adjusted.extend(y_adjusted)
        all_y_adjusted_list[filename] = y_adjusted.tolist()
        
        # Fit the function curve
        try:
            popt, _ = curve_fit(lambda x, a, b, c,d : fit_function(x, a, b, c, d), x_adjusted, y_adjusted, p0=[1, 1, 1,1], maxfev=100000)
        except RuntimeError:
            print(f"Curve fitting failed for file {filename}. Skipping this file.")
            continue

        # Generate x values for plotting the fitted curve
        x_fit = np.linspace(0, np.max(x_adjusted), 500)
        x_range = x_fit[-1] - x_fit[0]
        # Evaluate the function at the x values
        y_fit = fit_function(x_fit, *popt)
        y_derivative = logistic_derivative(x_fit, *popt)
        all_x_fit.extend(x_fit)
        all_y_fit.extend(y_fit)
        
        # Interpolate pixel values at each x_fit
        pixel_values_fit = np.interp(x_fit, x_adjusted, pixel_values)

        impact_factor = calculate_slowdown_impact_factor(x_fit, y_fit, popt)

        # Calculate the shrinkage rate (negative of the derivative)
        shrinkage_rate = -1/y_derivative
        catasrophe_length = x_range

        # Check if any shrinkage rate value is greater than 100 µm/min
        img_number = get_img_number(filename)
        img_label = f'img{img_number}'
        color = color_map.get(img_number, 'gray')

        # Plot the adjusted X,Y scatter plot
        if np.all(shrinkage_rate > 0) and np.all(shrinkage_rate<cut_off_rate):
            mean_shrinkage_rate = np.mean(shrinkage_rate)
            mean_shrinkage_rates.append(mean_shrinkage_rate)
            img_labels.append(img_label)  # Add this line to store img_labels
            all_x_ranges.append(x_range)
            all_b_param.append(popt[1])
            all_catasrophe_lengths.append(catasrophe_length)
            all_impact_factors.append(impact_factor)
            all_shrinkage_rates.append(shrinkage_rate)
            all_x_fits.append(x_fit)
            all_pixel_values.append(pixel_values_fit)
            
            if img_label not in legend_labels:
                plt.plot(x_fit, y_fit,color=color, label = img_label)
                legend_labels.add(img_label)
            else:
                plt.plot(x_fit, y_fit,color=color)
            
            plt.scatter(x_adjusted, y_adjusted, s=1, alpha=0.75)
            
            if img_label not in filtered_shrinkage_rates_dict:
                filtered_shrinkage_rates_dict[img_label] = []
            filtered_shrinkage_rates_dict[img_label].extend([mean_shrinkage_rate])
            mean_shrinkage_rates_dict[img_label] = mean_shrinkage_rates
        




Analysis_folder = os.path.join(directory, 'Analysis_folder')
if not os.path.exists(Analysis_folder):
    os.makedirs(Analysis_folder)

if non_ns_binary:
    # Save fitted data to CSV
    fitted_df = pd.DataFrame({
        'x_fit': all_x_fit,
        'y_fit': all_y_fit
    })
    fitted_df.to_csv(Analysis_folder + '/fitted_data.csv', index=False)

    # Save adjusted data to CSV
    adjusted_df = pd.DataFrame({
        'x_adjusted': all_x_adjusted,
        'y_adjusted': all_y_adjusted
    })
    adjusted_df.to_csv(Analysis_folder + '/adjusted_data.csv', index=False)

    impact_factors_df = pd.DataFrame({'impact_factor': all_impact_factors})
    impact_factors_df.to_csv(Analysis_folder + '/impact_factors.csv', index=False)
    # Use the updated get_img_number function to sort the dictionary keys
    sorted_shrinkage_rates_dict = dict(
        sorted(
            filtered_shrinkage_rates_dict.items(),
            key=lambda item: get_img_number(item[0])
        )
    )

    filtered_shrinkage_rates_df = pd.DataFrame.from_dict(sorted_shrinkage_rates_dict, orient='index').transpose()
    # Save the DataFrame to a CSV file
    filtered_shrinkage_rates_df.to_csv(Analysis_folder + '/filtered_shrinkage_rates.csv', index=False)
    # Save mean shrinkage rates with img_labels
    mean_shrinkage_rates_df = pd.DataFrame({
        'img_label': mean_shrinkage_rates
    })
    mean_shrinkage_rates_df.to_csv(Analysis_folder + '/mean_shrinkage_rates.csv', index=False)

    # Save all b parameters to a CSV file
    b_params_df = pd.DataFrame({'b_parameter': all_b_param, 'x_range': all_x_ranges,  'shrinkage_rate': mean_shrinkage_rates, 'impact_factor': all_impact_factors})
    b_params_df.to_csv(os.path.join(Analysis_folder, 'b_parameters.csv'), index=False)
    plt.xlabel('MT length (µm)')
    plt.ylabel('Time (min)')
    #plt.title('Adjusted Scatter Plot with Fitted Functions (Non-"With_NS" Files)')
    plt.gca().invert_yaxis()
    plt.grid(False)
    plt.legend()
    # Shrinkage rate plot for non-"With_NS" files
    plt.subplot(2, 2, 2)



    for x_fit, shrinkage_rate in zip(all_x_fits, all_shrinkage_rates):
        plt.scatter(x_fit, shrinkage_rate, s=1, alpha=0.3, color='gray')
    # Calculate the mean x values
    mean_x = np.mean(all_x_fits, axis=0)


    # Calculate the mean and standard deviation of shrinkage rates
    mean_shrinkage_rate = np.mean(all_shrinkage_rates, axis=0)
    std_shrinkage_rate = np.std(all_shrinkage_rates, axis=0)

    # Create a DataFrame with adjusted x and y values
    df_adjusted = pd.DataFrame({'X_adjusted': all_x_adjusted})
    # Add columns for each file's adjusted y values
    for filename, y_values in all_y_adjusted_list.items():
        column_name = f'Y_adjusted_{filename[:-4]}'  # Remove '.csv' from the filename
        df_adjusted[column_name] = pd.Series(y_values)

    # Save the adjusted data to a new CSV file
    # output_file = 'adjusted_data.csv'
    # df_adjusted.to_csv(output_file, index=False)

    # print(f"Adjusted data has been saved to {output_file}")
    # Plot mean values as a line
    plt.plot(mean_x, mean_shrinkage_rate, color='red', label='Mean Shrinkage Rate')

    # Plot the standard deviation as a shaded area
    plt.fill_between(mean_x, 
                    mean_shrinkage_rate - std_shrinkage_rate, 
                    mean_shrinkage_rate + std_shrinkage_rate, 
                    color='red', alpha=0.3, label='±1 Standard Deviation')

    plt.xlabel('MT length (µm)')
    plt.ylabel('Shrinkage Rate (µm/min)')
    #plt.title('Mean Shrinkage Rate of Fitted Function Curves (Non-"With_NS" Files)')
    plt.legend()
    plt.grid(False)


# Function to extract "img" number from filename
def get_img_number(filename):
    match = re.search(r'img(\d+)', filename)
    return int(match.group(1)) if match else None

# Adjusted X,Y scatter plot with fitted function for "With_NS" files
plt.subplot(2, 2, 3)
all_shrinkage_rates_ns = []
all_x_fits_ns = []
legend_labels = set()
filtered_shrinkage_rates_dict_ns = {}
all_impact_factors_ns = []
all_b_param_ns = []
all_x_ranges_ns = []
all_catasrophe_lengths_ns = []
mean_shrinkage_rates_csv_ns = []

for filename in os.listdir(directory):
    if filename.endswith('.csv') and filename.startswith('With_NS') and not filename.startswith('._'):
        file_path = os.path.join(directory, filename)
        try:
            df = pd.read_csv(file_path, encoding='utf-8')
        except UnicodeDecodeError:
            df = pd.read_csv(file_path, encoding='latin-1')
        
        try:
            x_ns = df['X']
            y_ns = df['Y'] / 60
            pixel_values = df.iloc[:, 2:3]
        except KeyError as e:
            print(f"Error: {e}. Columns not found in file {file_path}. Skipping.")
            continue

        max_y_ns = np.max(y_ns)
        min_x_ns = np.min(x_ns)
        x_adjusted_ns = x_ns - min_x_ns
        y_adjusted_ns = y_ns + (overall_max_y - max_y_ns)


        # Fit the function curve
        try:
            popt, _ = curve_fit(lambda x, a, b, c,d: fit_function(x, a, b, c, d), x_adjusted_ns, y_adjusted_ns, p0=[1, 1, 1, 1], maxfev=100000)
            
        except RuntimeError:
            print(f"Curve fitting failed for file {filename}. Skipping this file.")
            continue

        # Generate x values for plotting the fitted curve
        x_fit_ns = np.linspace(0, np.max(x_adjusted_ns), 500)
        x_range_ns = x_fit_ns[-1] - x_fit_ns[0]
        # Evaluate the function at the x values
        y_fit_ns = fit_function(x_fit_ns, *popt)
        y_derivative_ns = logistic_derivative(x_fit_ns, *popt)
        impact_factor_ns = calculate_slowdown_impact_factor(x_adjusted_ns, y_adjusted_ns, popt)

        # Calculate the shrinkage rate (negative of the derivative)
        shrinkage_rate_ns = -1/y_derivative_ns
        catasrophe_lengths_ns = np.mean(shrinkage_rate_ns)/(x_range_ns*60)
        

                # Check if any shrinkage rate value is greater than 100 µm/min
        img_number = get_img_number(filename)
        img_label_ns = f'img{img_number}'
        # Store the shrinkage rate and x_fit values
        # Plot the adjusted X,Y scatter plot
        plt.scatter(x_adjusted_ns, y_adjusted_ns, s=1, alpha=0.75)
        plt.plot(x_fit_ns, y_fit_ns, label=f'Fitted Function {filename}')

        if np.all(shrinkage_rate_ns > 0) and np.all(shrinkage_rate_ns<cut_off_rate):
            mean_shrinkage_rates_csv_ns.append(np.mean(shrinkage_rate_ns))
            all_b_param_ns.append(popt[1])
            all_catasrophe_lengths_ns.append(catasrophe_lengths_ns)
            all_x_ranges_ns.append(x_range_ns)
            all_impact_factors_ns.append(impact_factor_ns)
            all_shrinkage_rates_ns.append(shrinkage_rate_ns)
            all_x_fits_ns.append(x_fit_ns)
            if img_label_ns not in filtered_shrinkage_rates_dict_ns:
                filtered_shrinkage_rates_dict_ns[img_label_ns] = []
            filtered_shrinkage_rates_dict_ns[img_label_ns].append(np.mean(shrinkage_rate_ns))

# all_impact_factors_ns_df = pd.DataFrame({'impact_factor_ns': all_impact_factors_ns})
# all_impact_factors_ns_df.to_csv(Analysis_folder + '/impact_factor_ns.csv', index=False)
# Sorting the dictionary using the get_img_number function
# Ensuring that get_img_number always returns an int
sorted_shrinkage_rates_dict_ns = dict(
    sorted(
        filtered_shrinkage_rates_dict_ns.items(),
        key=lambda item: get_img_number(item[0]) if get_img_number(item[0]) is not None else 0
    )
)

filtered_shrinkage_rates_ns_df = pd.DataFrame.from_dict(sorted_shrinkage_rates_dict_ns, orient='index').transpose()
filtered_shrinkage_rates_ns_df.to_csv(Analysis_folder + '/filtered_shrinkage_rates_ns.csv', index=False)
b_params_ns_df = pd.DataFrame({'b_parameter ns': all_b_param_ns, 'x_range_ns': all_x_ranges_ns,  'shrinkage_rate': mean_shrinkage_rates_csv_ns, 'impact_factor': all_impact_factors_ns})
b_params_ns_df.to_csv(os.path.join(Analysis_folder, 'b_parameters_ns.csv'), index=False)

# Save mean shrinkage rates for NS files in a single column
mean_shrinkage_rates_ns_df = pd.DataFrame({
    'img_label_ns': mean_shrinkage_rates_csv_ns
})
mean_shrinkage_rates_ns_df.to_csv(Analysis_folder + '/mean_shrinkage_rates_ns.csv', index=False)

plt.xlabel('MT length (µm)')
plt.ylabel('Time (min)')
#plt.title('Adjusted Scatter Plot with Fitted Functions ("With_NS" Files)')
plt.gca().invert_yaxis()
plt.grid(False)
# Shrinkage rate plot for "With_NS" files
plt.subplot(2, 2, 4)
plt.savefig(Analysis_folder + '/adjusted_scatter_plot.pdf', format='pdf')




# Calculate the mean x values
mean_x_ns = np.mean(all_x_fits_ns, axis=0)
for x_fit_ns, shrinkage_rate_NS in zip(all_x_fits_ns, all_shrinkage_rates_ns):
    plt.scatter(x_fit_ns, shrinkage_rate_NS, s=1, alpha=0.3, color='gray')
# Calculate the mean and standard deviation of shrinkage rates
mean_shrinkage_rate_ns = np.mean(all_shrinkage_rates_ns, axis=0)
std_shrinkage_rate_ns = np.std(all_shrinkage_rates_ns, axis=0)
overall_min_y = min(np.min(mean_shrinkage_rate_ns - std_shrinkage_rate_ns), np.min(mean_shrinkage_rate_ns - std_shrinkage_rate_ns))
overall_max_y = max(np.max(mean_shrinkage_rate_ns + std_shrinkage_rate_ns), np.max(mean_shrinkage_rate_ns + std_shrinkage_rate_ns))
# Plot mean values as a line
plt.plot(mean_x_ns, mean_shrinkage_rate_ns, color='blue', label='Mean Shrinkage Rate')

# Plot the standard deviation as a shaded area
# plt.fill_between(mean_x_ns, 
#                  mean_shrinkage_rate_ns - std_shrinkage_rate_ns, 
#                  mean_shrinkage_rate_ns + std_shrinkage_rate_ns, 
#                  color='blue', alpha=0.3, label='±1 Standard Deviation')

plt.xlabel('MT length (µm)')
plt.ylabel('Shrinkage Rate (µm/min)')
#plt.title('Mean Shrinkage Rate of Fitted Function Curves ("With_NS" Files)')

plt.grid(False)
# plt.ylim(0, 50)
plt.tight_layout()
plt.show()


